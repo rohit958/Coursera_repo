{
  "nbformat": 4,
  "nbformat_minor": 0,
  "metadata": {
    "colab": {
      "provenance": [],
      "authorship_tag": "ABX9TyOSX6+x5W15lm4DgF3eff0B",
      "include_colab_link": true
    },
    "kernelspec": {
      "name": "python3",
      "display_name": "Python 3"
    },
    "language_info": {
      "name": "python"
    }
  },
  "cells": [
    {
      "cell_type": "markdown",
      "metadata": {
        "id": "view-in-github",
        "colab_type": "text"
      },
      "source": [
        "<a href=\"https://colab.research.google.com/github/rohit958/Coursera_repo/blob/main/DataScienceEcosystem.ipynb\" target=\"_parent\"><img src=\"https://colab.research.google.com/assets/colab-badge.svg\" alt=\"Open In Colab\"/></a>"
      ]
    },
    {
      "cell_type": "markdown",
      "source": [
        "# Data Science Tools and Ecosystem"
      ],
      "metadata": {
        "id": "cJdtFgezU-Gy"
      }
    },
    {
      "cell_type": "markdown",
      "source": [],
      "metadata": {
        "id": "rbH-Ien2Cl2L"
      }
    },
    {
      "cell_type": "markdown",
      "source": [
        "In this notebook, Data Science Tools and Ecosystem are summarized."
      ],
      "metadata": {
        "id": "m-yWKgN66AZ5"
      }
    },
    {
      "cell_type": "markdown",
      "source": [
        "Some of the popular languages that Data Scientists use are:\n"
      ],
      "metadata": {
        "id": "8AWmS-rr7gnY"
      }
    },
    {
      "cell_type": "markdown",
      "source": [
        "1. Python\n",
        "2. R\n",
        "3. SQL\n",
        "4. Scala"
      ],
      "metadata": {
        "id": "98BEpblz8KER"
      }
    },
    {
      "cell_type": "markdown",
      "source": [
        "**Objectives:**\n",
        "* Languages used in Data Science\n",
        "* Libraries used in Data Science\n",
        "* How to Create table in Jupyter Notebook Markdown\n",
        "* How to create Heading in Jupyter Notebook\n",
        ""
      ],
      "metadata": {
        "id": "_s8aNjt6B-xZ"
      }
    },
    {
      "cell_type": "markdown",
      "source": [
        "Some of the commonly used libraries used by Data Scientists include:\n",
        "1. Pandas\n",
        "2. Matplotlib\n",
        "3. Numpy\n",
        "4. Keras\n",
        "5. PyTorch\n",
        "6. Scikit Learn\n"
      ],
      "metadata": {
        "id": "Bx-8q46s8T3r"
      }
    },
    {
      "cell_type": "markdown",
      "source": [
        "Data Science tools:\n",
        "\n",
        "| S.No. | DataScienceTools |\n",
        "| --- | ---- |\n",
        "| 1 | R Studio |\n",
        "| 2 | Jupyter |\n",
        "| 3 | PySpark |"
      ],
      "metadata": {
        "id": "DYauvM_M83sT"
      }
    },
    {
      "cell_type": "markdown",
      "source": [
        "### Below are a few examples of evaluating arithmetic expressions in Python"
      ],
      "metadata": {
        "id": "D4gCL0xs_qjL"
      }
    },
    {
      "cell_type": "code",
      "source": [
        "#This a simple arithmetic expression to mutiply then add integers.\n",
        "(3*4)+5"
      ],
      "metadata": {
        "colab": {
          "base_uri": "https://localhost:8080/"
        },
        "id": "qTlag_Bu_tlm",
        "outputId": "4f5a5cd5-56fa-424f-b5c4-45c054977899"
      },
      "execution_count": 1,
      "outputs": [
        {
          "output_type": "execute_result",
          "data": {
            "text/plain": [
              "17"
            ]
          },
          "metadata": {},
          "execution_count": 1
        }
      ]
    },
    {
      "cell_type": "code",
      "source": [
        "# This will convert 200 minutes to hours by diving by 60\n",
        "\n",
        "minutes=200\n",
        "\n",
        "hour= minutes%60\n",
        "minute= minutes//60\n",
        "\n",
        "print(\"{}.{}\".format(hour,minute))\n",
        "\n",
        "\n"
      ],
      "metadata": {
        "colab": {
          "base_uri": "https://localhost:8080/"
        },
        "id": "4UqCD3lGAnNo",
        "outputId": "9b24663f-dee0-481a-c8cf-0cea172a540b"
      },
      "execution_count": 2,
      "outputs": [
        {
          "output_type": "stream",
          "name": "stdout",
          "text": [
            "20.3\n"
          ]
        }
      ]
    },
    {
      "cell_type": "markdown",
      "source": [
        "## Author ▶\n",
        " - Rohit Kushwaha\n",
        " - rohitkushwaha630@gmail.com\n"
      ],
      "metadata": {
        "id": "PDY5ZLszC1_5"
      }
    }
  ]
}